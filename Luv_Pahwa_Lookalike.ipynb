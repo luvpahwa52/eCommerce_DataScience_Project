{
 "cells": [
  {
   "cell_type": "markdown",
   "id": "264a1a58",
   "metadata": {},
   "source": [
    "# Task 2: Lookalike Model"
   ]
  },
  {
   "cell_type": "code",
   "execution_count": 1,
   "id": "1bdbb63b",
   "metadata": {},
   "outputs": [],
   "source": [
    "\n",
    "import pandas as pd\n",
    "from sklearn.preprocessing import StandardScaler\n",
    "from sklearn.metrics.pairwise import cosine_similarity\n",
    "\n",
    "# Load the datasets\n",
    "customers_path = \"Customers.csv\"\n",
    "transactions_path = \"Transactions.csv\"\n",
    "products_path = \"Products.csv\"\n",
    "\n",
    "customers_df = pd.read_csv(customers_path)\n",
    "transactions_df = pd.read_csv(transactions_path)\n",
    "products_df = pd.read_csv(products_path)\n",
    "\n",
    "# Convert date columns to datetime format\n",
    "customers_df['SignupDate'] = pd.to_datetime(customers_df['SignupDate'], errors='coerce')\n",
    "transactions_df['TransactionDate'] = pd.to_datetime(transactions_df['TransactionDate'], errors='coerce')\n",
    "\n",
    "# Merge datasets\n",
    "customer_transactions = pd.merge(transactions_df, customers_df, on=\"CustomerID\", how=\"inner\")\n",
    "full_data = pd.merge(customer_transactions, products_df, on=\"ProductID\", how=\"inner\")\n",
    "\n",
    "# Feature Engineering: Aggregate transaction data\n",
    "customer_features = full_data.groupby('CustomerID').agg({\n",
    "    'TotalValue': 'sum',  # Total spending\n",
    "    'TransactionID': 'count',  # Transaction count\n",
    "    'Category': lambda x: x.nunique()  # Unique categories purchased\n",
    "}).rename(columns={\n",
    "    'TotalValue': 'TotalSpending',\n",
    "    'TransactionID': 'TransactionCount',\n",
    "    'Category': 'UniqueCategories'\n",
    "})\n",
    "\n",
    "# Add region as a categorical feature (one-hot encoding)\n",
    "region_dummies = pd.get_dummies(customers_df.set_index('CustomerID')['Region'], prefix='Region')\n",
    "\n",
    "# Combine numerical and categorical features\n",
    "customer_features = customer_features.join(region_dummies)\n",
    "\n",
    "# Normalize numerical features for similarity calculations\n",
    "scaler = StandardScaler()\n",
    "numerical_features = ['TotalSpending', 'TransactionCount', 'UniqueCategories']\n",
    "customer_features[numerical_features] = scaler.fit_transform(customer_features[numerical_features])\n",
    "\n",
    "# Calculate cosine similarity\n",
    "similarity_matrix = cosine_similarity(customer_features)\n",
    "\n",
    "# Create a mapping of CustomerIDs to similarity scores\n",
    "customer_ids = customer_features.index.tolist()\n",
    "similarity_df = pd.DataFrame(similarity_matrix, index=customer_ids, columns=customer_ids)\n",
    "\n",
    "# Extract top 3 similar customers for each customer in the range C0001 to C0020\n",
    "top_customers = {}\n",
    "for customer_id in customer_ids[:20]:  # Limiting to first 20 customers\n",
    "    similar_customers = similarity_df[customer_id].sort_values(ascending=False).iloc[1:4]\n",
    "    top_customers[customer_id] = list(zip(similar_customers.index, similar_customers.values))\n",
    "\n",
    "# Convert the result into a DataFrame\n",
    "lookalike_data = []\n",
    "for cust_id, similar_list in top_customers.items():\n",
    "    for similar_cust, score in similar_list:\n",
    "        lookalike_data.append([cust_id, similar_cust, score])\n",
    "\n",
    "lookalike_df = pd.DataFrame(lookalike_data, columns=[\"CustomerID\", \"SimilarCustomerID\", \"SimilarityScore\"])\n",
    "\n",
    "# Save the Lookalike data\n",
    "lookalike_csv_path = \"Luv_Pahwa_Lookalike.csv\"\n",
    "lookalike_df.to_csv(lookalike_csv_path, index=False)\n"
   ]
  },
  {
   "cell_type": "code",
   "execution_count": null,
   "id": "bb7fcf4c",
   "metadata": {},
   "outputs": [],
   "source": []
  }
 ],
 "metadata": {
  "kernelspec": {
   "display_name": "Python 3",
   "language": "python",
   "name": "python3"
  },
  "language_info": {
   "codemirror_mode": {
    "name": "ipython",
    "version": 3
   },
   "file_extension": ".py",
   "mimetype": "text/x-python",
   "name": "python",
   "nbconvert_exporter": "python",
   "pygments_lexer": "ipython3",
   "version": "3.13.0"
  }
 },
 "nbformat": 4,
 "nbformat_minor": 5
}
